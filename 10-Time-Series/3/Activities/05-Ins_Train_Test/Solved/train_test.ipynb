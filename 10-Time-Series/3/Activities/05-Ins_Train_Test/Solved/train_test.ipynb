{
 "cells": [
  {
   "cell_type": "code",
   "execution_count": 18,
   "metadata": {},
   "outputs": [],
   "source": [
    "import pandas as pd\n",
    "import numpy as np\n",
    "%matplotlib inline"
   ]
  },
  {
   "cell_type": "code",
   "execution_count": 19,
   "metadata": {},
   "outputs": [],
   "source": [
    "from pathlib import Path\n",
    "csvpath = Path('../Resources/GSPC.csv')\n",
    "df = pd.read_csv(csvpath, parse_dates=True, index_col='Date')"
   ]
  },
  {
   "cell_type": "code",
   "execution_count": 20,
   "metadata": {},
   "outputs": [
    {
     "data": {
      "text/html": [
       "<div>\n",
       "<style scoped>\n",
       "    .dataframe tbody tr th:only-of-type {\n",
       "        vertical-align: middle;\n",
       "    }\n",
       "\n",
       "    .dataframe tbody tr th {\n",
       "        vertical-align: top;\n",
       "    }\n",
       "\n",
       "    .dataframe thead th {\n",
       "        text-align: right;\n",
       "    }\n",
       "</style>\n",
       "<table border=\"1\" class=\"dataframe\">\n",
       "  <thead>\n",
       "    <tr style=\"text-align: right;\">\n",
       "      <th></th>\n",
       "      <th>Open</th>\n",
       "      <th>High</th>\n",
       "      <th>Low</th>\n",
       "      <th>Close</th>\n",
       "      <th>Adj Close</th>\n",
       "      <th>Volume</th>\n",
       "      <th>Return</th>\n",
       "      <th>Lagged_Return</th>\n",
       "    </tr>\n",
       "    <tr>\n",
       "      <th>Date</th>\n",
       "      <th></th>\n",
       "      <th></th>\n",
       "      <th></th>\n",
       "      <th></th>\n",
       "      <th></th>\n",
       "      <th></th>\n",
       "      <th></th>\n",
       "      <th></th>\n",
       "    </tr>\n",
       "  </thead>\n",
       "  <tbody>\n",
       "    <tr>\n",
       "      <th>1997-01-06</th>\n",
       "      <td>748.030029</td>\n",
       "      <td>753.309998</td>\n",
       "      <td>743.820007</td>\n",
       "      <td>747.650024</td>\n",
       "      <td>747.650024</td>\n",
       "      <td>531350000</td>\n",
       "      <td>-0.050801</td>\n",
       "      <td>1.495233</td>\n",
       "    </tr>\n",
       "    <tr>\n",
       "      <th>1997-01-07</th>\n",
       "      <td>747.650024</td>\n",
       "      <td>753.260010</td>\n",
       "      <td>742.179993</td>\n",
       "      <td>753.229980</td>\n",
       "      <td>753.229980</td>\n",
       "      <td>538220000</td>\n",
       "      <td>0.746333</td>\n",
       "      <td>-0.050801</td>\n",
       "    </tr>\n",
       "    <tr>\n",
       "      <th>1997-01-08</th>\n",
       "      <td>753.229980</td>\n",
       "      <td>755.719971</td>\n",
       "      <td>747.710022</td>\n",
       "      <td>748.409973</td>\n",
       "      <td>748.409973</td>\n",
       "      <td>557510000</td>\n",
       "      <td>-0.639912</td>\n",
       "      <td>0.746333</td>\n",
       "    </tr>\n",
       "    <tr>\n",
       "      <th>1997-01-09</th>\n",
       "      <td>748.409973</td>\n",
       "      <td>757.679993</td>\n",
       "      <td>748.409973</td>\n",
       "      <td>754.849976</td>\n",
       "      <td>754.849976</td>\n",
       "      <td>555370000</td>\n",
       "      <td>0.860491</td>\n",
       "      <td>-0.639912</td>\n",
       "    </tr>\n",
       "    <tr>\n",
       "      <th>1997-01-10</th>\n",
       "      <td>754.849976</td>\n",
       "      <td>759.650024</td>\n",
       "      <td>746.919983</td>\n",
       "      <td>759.500000</td>\n",
       "      <td>759.500000</td>\n",
       "      <td>545850000</td>\n",
       "      <td>0.616020</td>\n",
       "      <td>0.860491</td>\n",
       "    </tr>\n",
       "  </tbody>\n",
       "</table>\n",
       "</div>"
      ],
      "text/plain": [
       "                  Open        High         Low       Close   Adj Close  \\\n",
       "Date                                                                     \n",
       "1997-01-06  748.030029  753.309998  743.820007  747.650024  747.650024   \n",
       "1997-01-07  747.650024  753.260010  742.179993  753.229980  753.229980   \n",
       "1997-01-08  753.229980  755.719971  747.710022  748.409973  748.409973   \n",
       "1997-01-09  748.409973  757.679993  748.409973  754.849976  754.849976   \n",
       "1997-01-10  754.849976  759.650024  746.919983  759.500000  759.500000   \n",
       "\n",
       "               Volume    Return  Lagged_Return  \n",
       "Date                                            \n",
       "1997-01-06  531350000 -0.050801       1.495233  \n",
       "1997-01-07  538220000  0.746333      -0.050801  \n",
       "1997-01-08  557510000 -0.639912       0.746333  \n",
       "1997-01-09  555370000  0.860491      -0.639912  \n",
       "1997-01-10  545850000  0.616020       0.860491  "
      ]
     },
     "execution_count": 20,
     "metadata": {},
     "output_type": "execute_result"
    }
   ],
   "source": [
    "df['Return'] = df.Close.pct_change() * 100\n",
    "df['Lagged_Return'] = df.Return.shift()\n",
    "df = df.dropna()\n",
    "df.head()"
   ]
  },
  {
   "cell_type": "markdown",
   "metadata": {},
   "source": [
    "# Slice the data into Training and Testing data"
   ]
  },
  {
   "cell_type": "code",
   "execution_count": 4,
   "metadata": {},
   "outputs": [],
   "source": [
    "train = df.loc['2008':'2012']\n",
    "\n",
    "test = df.loc['2013']"
   ]
  },
  {
   "cell_type": "code",
   "execution_count": 21,
   "metadata": {},
   "outputs": [
    {
     "data": {
      "text/html": [
       "<div>\n",
       "<style scoped>\n",
       "    .dataframe tbody tr th:only-of-type {\n",
       "        vertical-align: middle;\n",
       "    }\n",
       "\n",
       "    .dataframe tbody tr th {\n",
       "        vertical-align: top;\n",
       "    }\n",
       "\n",
       "    .dataframe thead th {\n",
       "        text-align: right;\n",
       "    }\n",
       "</style>\n",
       "<table border=\"1\" class=\"dataframe\">\n",
       "  <thead>\n",
       "    <tr style=\"text-align: right;\">\n",
       "      <th></th>\n",
       "      <th>Open</th>\n",
       "      <th>High</th>\n",
       "      <th>Low</th>\n",
       "      <th>Close</th>\n",
       "      <th>Adj Close</th>\n",
       "      <th>Volume</th>\n",
       "      <th>Return</th>\n",
       "      <th>Lagged_Return</th>\n",
       "    </tr>\n",
       "    <tr>\n",
       "      <th>Date</th>\n",
       "      <th></th>\n",
       "      <th></th>\n",
       "      <th></th>\n",
       "      <th></th>\n",
       "      <th></th>\n",
       "      <th></th>\n",
       "      <th></th>\n",
       "      <th></th>\n",
       "    </tr>\n",
       "  </thead>\n",
       "  <tbody>\n",
       "    <tr>\n",
       "      <th>2008-01-02</th>\n",
       "      <td>1467.969971</td>\n",
       "      <td>1471.770020</td>\n",
       "      <td>1442.069946</td>\n",
       "      <td>1447.160034</td>\n",
       "      <td>1447.160034</td>\n",
       "      <td>3452650000</td>\n",
       "      <td>-1.443784</td>\n",
       "      <td>-0.685159</td>\n",
       "    </tr>\n",
       "    <tr>\n",
       "      <th>2008-01-03</th>\n",
       "      <td>1447.550049</td>\n",
       "      <td>1456.800049</td>\n",
       "      <td>1443.729980</td>\n",
       "      <td>1447.160034</td>\n",
       "      <td>1447.160034</td>\n",
       "      <td>3429500000</td>\n",
       "      <td>0.000000</td>\n",
       "      <td>-1.443784</td>\n",
       "    </tr>\n",
       "    <tr>\n",
       "      <th>2008-01-04</th>\n",
       "      <td>1444.010010</td>\n",
       "      <td>1444.010010</td>\n",
       "      <td>1411.189941</td>\n",
       "      <td>1411.630005</td>\n",
       "      <td>1411.630005</td>\n",
       "      <td>4166000000</td>\n",
       "      <td>-2.455155</td>\n",
       "      <td>0.000000</td>\n",
       "    </tr>\n",
       "    <tr>\n",
       "      <th>2008-01-07</th>\n",
       "      <td>1414.069946</td>\n",
       "      <td>1423.869995</td>\n",
       "      <td>1403.449951</td>\n",
       "      <td>1416.180054</td>\n",
       "      <td>1416.180054</td>\n",
       "      <td>4221260000</td>\n",
       "      <td>0.322326</td>\n",
       "      <td>-2.455155</td>\n",
       "    </tr>\n",
       "    <tr>\n",
       "      <th>2008-01-08</th>\n",
       "      <td>1415.709961</td>\n",
       "      <td>1430.280029</td>\n",
       "      <td>1388.300049</td>\n",
       "      <td>1390.189941</td>\n",
       "      <td>1390.189941</td>\n",
       "      <td>4705390000</td>\n",
       "      <td>-1.835227</td>\n",
       "      <td>0.322326</td>\n",
       "    </tr>\n",
       "  </tbody>\n",
       "</table>\n",
       "</div>"
      ],
      "text/plain": [
       "                   Open         High          Low        Close    Adj Close  \\\n",
       "Date                                                                          \n",
       "2008-01-02  1467.969971  1471.770020  1442.069946  1447.160034  1447.160034   \n",
       "2008-01-03  1447.550049  1456.800049  1443.729980  1447.160034  1447.160034   \n",
       "2008-01-04  1444.010010  1444.010010  1411.189941  1411.630005  1411.630005   \n",
       "2008-01-07  1414.069946  1423.869995  1403.449951  1416.180054  1416.180054   \n",
       "2008-01-08  1415.709961  1430.280029  1388.300049  1390.189941  1390.189941   \n",
       "\n",
       "                Volume    Return  Lagged_Return  \n",
       "Date                                             \n",
       "2008-01-02  3452650000 -1.443784      -0.685159  \n",
       "2008-01-03  3429500000  0.000000      -1.443784  \n",
       "2008-01-04  4166000000 -2.455155       0.000000  \n",
       "2008-01-07  4221260000  0.322326      -2.455155  \n",
       "2008-01-08  4705390000 -1.835227       0.322326  "
      ]
     },
     "execution_count": 21,
     "metadata": {},
     "output_type": "execute_result"
    }
   ],
   "source": [
    "train.head()"
   ]
  },
  {
   "cell_type": "code",
   "execution_count": 22,
   "metadata": {},
   "outputs": [
    {
     "data": {
      "text/html": [
       "<div>\n",
       "<style scoped>\n",
       "    .dataframe tbody tr th:only-of-type {\n",
       "        vertical-align: middle;\n",
       "    }\n",
       "\n",
       "    .dataframe tbody tr th {\n",
       "        vertical-align: top;\n",
       "    }\n",
       "\n",
       "    .dataframe thead th {\n",
       "        text-align: right;\n",
       "    }\n",
       "</style>\n",
       "<table border=\"1\" class=\"dataframe\">\n",
       "  <thead>\n",
       "    <tr style=\"text-align: right;\">\n",
       "      <th></th>\n",
       "      <th>Open</th>\n",
       "      <th>High</th>\n",
       "      <th>Low</th>\n",
       "      <th>Close</th>\n",
       "      <th>Adj Close</th>\n",
       "      <th>Volume</th>\n",
       "      <th>Return</th>\n",
       "      <th>Lagged_Return</th>\n",
       "    </tr>\n",
       "    <tr>\n",
       "      <th>Date</th>\n",
       "      <th></th>\n",
       "      <th></th>\n",
       "      <th></th>\n",
       "      <th></th>\n",
       "      <th></th>\n",
       "      <th></th>\n",
       "      <th></th>\n",
       "      <th></th>\n",
       "    </tr>\n",
       "  </thead>\n",
       "  <tbody>\n",
       "    <tr>\n",
       "      <th>2013-01-02</th>\n",
       "      <td>1426.189941</td>\n",
       "      <td>1462.430054</td>\n",
       "      <td>1426.189941</td>\n",
       "      <td>1462.420044</td>\n",
       "      <td>1462.420044</td>\n",
       "      <td>4202600000</td>\n",
       "      <td>2.540342</td>\n",
       "      <td>1.694194</td>\n",
       "    </tr>\n",
       "    <tr>\n",
       "      <th>2013-01-03</th>\n",
       "      <td>1462.420044</td>\n",
       "      <td>1465.469971</td>\n",
       "      <td>1455.530029</td>\n",
       "      <td>1459.369995</td>\n",
       "      <td>1459.369995</td>\n",
       "      <td>3829730000</td>\n",
       "      <td>-0.208562</td>\n",
       "      <td>2.540342</td>\n",
       "    </tr>\n",
       "    <tr>\n",
       "      <th>2013-01-04</th>\n",
       "      <td>1459.369995</td>\n",
       "      <td>1467.939941</td>\n",
       "      <td>1458.989990</td>\n",
       "      <td>1466.469971</td>\n",
       "      <td>1466.469971</td>\n",
       "      <td>3424290000</td>\n",
       "      <td>0.486510</td>\n",
       "      <td>-0.208562</td>\n",
       "    </tr>\n",
       "    <tr>\n",
       "      <th>2013-01-07</th>\n",
       "      <td>1466.469971</td>\n",
       "      <td>1466.469971</td>\n",
       "      <td>1456.619995</td>\n",
       "      <td>1461.890015</td>\n",
       "      <td>1461.890015</td>\n",
       "      <td>3304970000</td>\n",
       "      <td>-0.312312</td>\n",
       "      <td>0.486510</td>\n",
       "    </tr>\n",
       "    <tr>\n",
       "      <th>2013-01-08</th>\n",
       "      <td>1461.890015</td>\n",
       "      <td>1461.890015</td>\n",
       "      <td>1451.640015</td>\n",
       "      <td>1457.150024</td>\n",
       "      <td>1457.150024</td>\n",
       "      <td>3601600000</td>\n",
       "      <td>-0.324237</td>\n",
       "      <td>-0.312312</td>\n",
       "    </tr>\n",
       "  </tbody>\n",
       "</table>\n",
       "</div>"
      ],
      "text/plain": [
       "                   Open         High          Low        Close    Adj Close  \\\n",
       "Date                                                                          \n",
       "2013-01-02  1426.189941  1462.430054  1426.189941  1462.420044  1462.420044   \n",
       "2013-01-03  1462.420044  1465.469971  1455.530029  1459.369995  1459.369995   \n",
       "2013-01-04  1459.369995  1467.939941  1458.989990  1466.469971  1466.469971   \n",
       "2013-01-07  1466.469971  1466.469971  1456.619995  1461.890015  1461.890015   \n",
       "2013-01-08  1461.890015  1461.890015  1451.640015  1457.150024  1457.150024   \n",
       "\n",
       "                Volume    Return  Lagged_Return  \n",
       "Date                                             \n",
       "2013-01-02  4202600000  2.540342       1.694194  \n",
       "2013-01-03  3829730000 -0.208562       2.540342  \n",
       "2013-01-04  3424290000  0.486510      -0.208562  \n",
       "2013-01-07  3304970000 -0.312312       0.486510  \n",
       "2013-01-08  3601600000 -0.324237      -0.312312  "
      ]
     },
     "execution_count": 22,
     "metadata": {},
     "output_type": "execute_result"
    }
   ],
   "source": [
    "test.head()"
   ]
  },
  {
   "cell_type": "code",
   "execution_count": 23,
   "metadata": {},
   "outputs": [],
   "source": [
    "# Create dataframes for X_train and X_test\n",
    "# Create series for y_train and y_test\n",
    "# X_train (training set using just the independent variables), X_test (test set of of just the independent variables)\n",
    "# Y_train (training set using just the \"y\" variable, i.e., \"Futures Return\"), Y_test (test set of just the \"y\" variable):\n",
    "X_train = train[\"Lagged_Return\"].to_frame()\n",
    "X_test = test[\"Lagged_Return\"].to_frame()\n",
    "y_train = train[\"Return\"].to_frame()\n",
    "y_test = test[\"Return\"].to_frame()"
   ]
  },
  {
   "cell_type": "code",
   "execution_count": 24,
   "metadata": {},
   "outputs": [
    {
     "data": {
      "text/html": [
       "<div>\n",
       "<style scoped>\n",
       "    .dataframe tbody tr th:only-of-type {\n",
       "        vertical-align: middle;\n",
       "    }\n",
       "\n",
       "    .dataframe tbody tr th {\n",
       "        vertical-align: top;\n",
       "    }\n",
       "\n",
       "    .dataframe thead th {\n",
       "        text-align: right;\n",
       "    }\n",
       "</style>\n",
       "<table border=\"1\" class=\"dataframe\">\n",
       "  <thead>\n",
       "    <tr style=\"text-align: right;\">\n",
       "      <th></th>\n",
       "      <th>Lagged_Return</th>\n",
       "    </tr>\n",
       "    <tr>\n",
       "      <th>Date</th>\n",
       "      <th></th>\n",
       "    </tr>\n",
       "  </thead>\n",
       "  <tbody>\n",
       "    <tr>\n",
       "      <th>2008-01-02</th>\n",
       "      <td>-0.685159</td>\n",
       "    </tr>\n",
       "    <tr>\n",
       "      <th>2008-01-03</th>\n",
       "      <td>-1.443784</td>\n",
       "    </tr>\n",
       "    <tr>\n",
       "      <th>2008-01-04</th>\n",
       "      <td>0.000000</td>\n",
       "    </tr>\n",
       "    <tr>\n",
       "      <th>2008-01-07</th>\n",
       "      <td>-2.455155</td>\n",
       "    </tr>\n",
       "    <tr>\n",
       "      <th>2008-01-08</th>\n",
       "      <td>0.322326</td>\n",
       "    </tr>\n",
       "  </tbody>\n",
       "</table>\n",
       "</div>"
      ],
      "text/plain": [
       "            Lagged_Return\n",
       "Date                     \n",
       "2008-01-02      -0.685159\n",
       "2008-01-03      -1.443784\n",
       "2008-01-04       0.000000\n",
       "2008-01-07      -2.455155\n",
       "2008-01-08       0.322326"
      ]
     },
     "execution_count": 24,
     "metadata": {},
     "output_type": "execute_result"
    }
   ],
   "source": [
    "X_train.head()"
   ]
  },
  {
   "cell_type": "code",
   "execution_count": 25,
   "metadata": {},
   "outputs": [
    {
     "data": {
      "text/html": [
       "<div>\n",
       "<style scoped>\n",
       "    .dataframe tbody tr th:only-of-type {\n",
       "        vertical-align: middle;\n",
       "    }\n",
       "\n",
       "    .dataframe tbody tr th {\n",
       "        vertical-align: top;\n",
       "    }\n",
       "\n",
       "    .dataframe thead th {\n",
       "        text-align: right;\n",
       "    }\n",
       "</style>\n",
       "<table border=\"1\" class=\"dataframe\">\n",
       "  <thead>\n",
       "    <tr style=\"text-align: right;\">\n",
       "      <th></th>\n",
       "      <th>Return</th>\n",
       "    </tr>\n",
       "    <tr>\n",
       "      <th>Date</th>\n",
       "      <th></th>\n",
       "    </tr>\n",
       "  </thead>\n",
       "  <tbody>\n",
       "    <tr>\n",
       "      <th>2008-01-02</th>\n",
       "      <td>-1.443784</td>\n",
       "    </tr>\n",
       "    <tr>\n",
       "      <th>2008-01-03</th>\n",
       "      <td>0.000000</td>\n",
       "    </tr>\n",
       "    <tr>\n",
       "      <th>2008-01-04</th>\n",
       "      <td>-2.455155</td>\n",
       "    </tr>\n",
       "    <tr>\n",
       "      <th>2008-01-07</th>\n",
       "      <td>0.322326</td>\n",
       "    </tr>\n",
       "    <tr>\n",
       "      <th>2008-01-08</th>\n",
       "      <td>-1.835227</td>\n",
       "    </tr>\n",
       "  </tbody>\n",
       "</table>\n",
       "</div>"
      ],
      "text/plain": [
       "              Return\n",
       "Date                \n",
       "2008-01-02 -1.443784\n",
       "2008-01-03  0.000000\n",
       "2008-01-04 -2.455155\n",
       "2008-01-07  0.322326\n",
       "2008-01-08 -1.835227"
      ]
     },
     "execution_count": 25,
     "metadata": {},
     "output_type": "execute_result"
    }
   ],
   "source": [
    "y_train.head()"
   ]
  },
  {
   "cell_type": "markdown",
   "metadata": {},
   "source": [
    "# Fit the model to the Training Data"
   ]
  },
  {
   "cell_type": "code",
   "execution_count": 26,
   "metadata": {},
   "outputs": [],
   "source": [
    "from sklearn.linear_model import LinearRegression"
   ]
  },
  {
   "cell_type": "code",
   "execution_count": 27,
   "metadata": {},
   "outputs": [
    {
     "data": {
      "text/plain": [
       "LinearRegression()"
      ]
     },
     "execution_count": 27,
     "metadata": {},
     "output_type": "execute_result"
    }
   ],
   "source": [
    "#Fit a SKLearn linear regression using just the training set (X_train, Y_train):\n",
    "model = LinearRegression()\n",
    "model.fit(X_train, y_train)"
   ]
  },
  {
   "cell_type": "markdown",
   "metadata": {},
   "source": [
    "# Make predictions using the Testing Data\n",
    "\n",
    "Note: We want to evaluate the model using data that it has never seen before, in this case: X_test."
   ]
  },
  {
   "cell_type": "code",
   "execution_count": 28,
   "metadata": {},
   "outputs": [],
   "source": [
    "# And make a prediction of \"y\" values for just the test dataset\n",
    "predictions = model.predict(X_test)"
   ]
  },
  {
   "cell_type": "code",
   "execution_count": 29,
   "metadata": {},
   "outputs": [],
   "source": [
    "# Assemble actual y data (Y_test) with predicted y data (from just above) into two columns in a dataframe:\n",
    "Results = y_test\n",
    "Results[\"Predicted Return\"] = predictions\n"
   ]
  },
  {
   "cell_type": "code",
   "execution_count": 30,
   "metadata": {},
   "outputs": [
    {
     "data": {
      "text/html": [
       "<div>\n",
       "<style scoped>\n",
       "    .dataframe tbody tr th:only-of-type {\n",
       "        vertical-align: middle;\n",
       "    }\n",
       "\n",
       "    .dataframe tbody tr th {\n",
       "        vertical-align: top;\n",
       "    }\n",
       "\n",
       "    .dataframe thead th {\n",
       "        text-align: right;\n",
       "    }\n",
       "</style>\n",
       "<table border=\"1\" class=\"dataframe\">\n",
       "  <thead>\n",
       "    <tr style=\"text-align: right;\">\n",
       "      <th></th>\n",
       "      <th>Return</th>\n",
       "      <th>Predicted Return</th>\n",
       "    </tr>\n",
       "    <tr>\n",
       "      <th>Date</th>\n",
       "      <th></th>\n",
       "      <th></th>\n",
       "    </tr>\n",
       "  </thead>\n",
       "  <tbody>\n",
       "    <tr>\n",
       "      <th>2013-01-02</th>\n",
       "      <td>2.540342</td>\n",
       "      <td>-0.188503</td>\n",
       "    </tr>\n",
       "    <tr>\n",
       "      <th>2013-01-03</th>\n",
       "      <td>-0.208562</td>\n",
       "      <td>-0.288921</td>\n",
       "    </tr>\n",
       "    <tr>\n",
       "      <th>2013-01-04</th>\n",
       "      <td>0.486510</td>\n",
       "      <td>0.037312</td>\n",
       "    </tr>\n",
       "    <tr>\n",
       "      <th>2013-01-07</th>\n",
       "      <td>-0.312312</td>\n",
       "      <td>-0.045177</td>\n",
       "    </tr>\n",
       "    <tr>\n",
       "      <th>2013-01-08</th>\n",
       "      <td>-0.324237</td>\n",
       "      <td>0.049625</td>\n",
       "    </tr>\n",
       "  </tbody>\n",
       "</table>\n",
       "</div>"
      ],
      "text/plain": [
       "              Return  Predicted Return\n",
       "Date                                  \n",
       "2013-01-02  2.540342         -0.188503\n",
       "2013-01-03 -0.208562         -0.288921\n",
       "2013-01-04  0.486510          0.037312\n",
       "2013-01-07 -0.312312         -0.045177\n",
       "2013-01-08 -0.324237          0.049625"
      ]
     },
     "execution_count": 30,
     "metadata": {},
     "output_type": "execute_result"
    }
   ],
   "source": [
    "Results.head()"
   ]
  },
  {
   "cell_type": "code",
   "execution_count": 31,
   "metadata": {},
   "outputs": [
    {
     "data": {
      "text/plain": [
       "array([<AxesSubplot:xlabel='Date'>, <AxesSubplot:xlabel='Date'>],\n",
       "      dtype=object)"
      ]
     },
     "execution_count": 31,
     "metadata": {},
     "output_type": "execute_result"
    },
    {
     "data": {
      "image/png": "[encoded data removed]",
      "text/plain": [
       "<Figure size 432x288 with 2 Axes>"
      ]
     },
     "metadata": {
      "needs_background": "light"
     },
     "output_type": "display_data"
    }
   ],
   "source": [
    "# Plot the first 20 predictions against the true values to see how it performed\n",
    "# The trends lines should be similar\n",
    "Results[:20].plot(subplots=True)"
   ]
  },
  {
   "cell_type": "markdown",
   "metadata": {},
   "source": [
    "# Out-of-Sample Performance (Fitting model by using x_train set and predicting based on x_test)\n",
    "\n",
    "Evaluate the model using \"out-of-sample\" data (X_test and y_test)"
   ]
  },
  {
   "cell_type": "code",
   "execution_count": 32,
   "metadata": {},
   "outputs": [
    {
     "name": "stdout",
     "output_type": "stream",
     "text": [
      "Out-of-Sample Root Mean Squared Error (RMSE): 0.7037691017337323\n",
      "Out-of-Sample r2: -0.02278682633431206\n"
     ]
    }
   ],
   "source": [
    "from sklearn.metrics import mean_squared_error, r2_score\n",
    "# Calculate the mean_squared_error (MSE) on actual versus predicted test \"y\" \n",
    "# (Hint: use the dataframe above)\n",
    "mse = mean_squared_error(\n",
    "    Results[\"Return\"],\n",
    "    Results[\"Predicted Return\"]\n",
    ")\n",
    "\n",
    "# Using that mean-squared-error, calculate the root-mean-squared error (RMSE) and r2:\n",
    "rmse = np.sqrt(mse)\n",
    "r2 = r2_score(Results[\"Return\"], Results[\"Predicted Return\"])\n",
    "print(f\"Out-of-Sample Root Mean Squared Error (RMSE): {rmse}\")\n",
    "print(f\"Out-of-Sample r2: {r2}\")\n",
    "\n"
   ]
  },
  {
   "cell_type": "markdown",
   "metadata": {},
   "source": [
    "# In-Sample Performance (Fitting model by using x_test set and predicting y based on x_test)\n",
    "\n",
    "Evaluate the model using in-sample data (X_train and y_train)\n",
    "\n",
    "Typically, out-of-sample errors are higher than in-sample errors."
   ]
  },
  {
   "cell_type": "code",
   "execution_count": 33,
   "metadata": {},
   "outputs": [
    {
     "name": "stdout",
     "output_type": "stream",
     "text": [
      "In-sample Root Mean Squared Error (RMSE): 1.6450198277763866\n",
      "In-sample r2: 0.014074815142220531\n"
     ]
    }
   ],
   "source": [
    "# Construct a dataframe using just the \"y\" training data:\n",
    "in_sample_results = y_train\n",
    "\n",
    "# Add a column of \"in-sample\" predictions to that DataFrame:  \n",
    "in_sample_results[\"In-sample Predictions\"] = model.predict(X_train)\n",
    "\n",
    "# Calculate in-sample mean_squared_error (for comparison to out-of-sample)\n",
    "in_sample_mse = mean_squared_error(\n",
    "    in_sample_results[\"Return\"],\n",
    "    in_sample_results[\"In-sample Predictions\"]\n",
    ")\n",
    "\n",
    "# Calculate in-sample root mean_squared_error and r2 value(for comparison to out-of-sample) \n",
    "in_sample_rmse = np.sqrt(in_sample_mse)\n",
    "in_sample_r2 = r2_score(in_sample_results[\"Return\"], in_sample_results[\"In-sample Predictions\"])\n",
    "print(f\"In-sample Root Mean Squared Error (RMSE): {in_sample_rmse}\")\n",
    "print(f\"In-sample r2: {in_sample_r2}\")"
   ]
  },
  {
   "cell_type": "code",
   "execution_count": null,
   "metadata": {},
   "outputs": [],
   "source": []
  }
 ],
 "metadata": {
  "kernelspec": {
   "display_name": "Python 3",
   "language": "python",
   "name": "python3"
  },
  "language_info": {
   "codemirror_mode": {
    "name": "ipython",
    "version": 3
   },
   "file_extension": ".py",
   "mimetype": "text/x-python",
   "name": "python",
   "nbconvert_exporter": "python",
   "pygments_lexer": "ipython3",
   "version": "3.7.9"
  }
 },
 "nbformat": 4,
 "nbformat_minor": 4
}
