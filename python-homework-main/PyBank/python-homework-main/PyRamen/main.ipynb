{
 "cells": [
  {
   "cell_type": "code",
   "execution_count": 11,
   "metadata": {},
   "outputs": [],
   "source": [
    "# Metric Variables"
   ]
  },
  {
   "cell_type": "code",
   "execution_count": 12,
   "metadata": {},
   "outputs": [],
   "source": [
    "maximum = 0\n",
    "minimum = 0\n",
    "total = 0\n",
    "count = 0\n",
    "average = 0"
   ]
  },
  {
   "cell_type": "code",
   "execution_count": 13,
   "metadata": {},
   "outputs": [],
   "source": [
    "# Initialize list to hold profitable and unprofitable day profits/losses"
   ]
  },
  {
   "cell_type": "code",
   "execution_count": 15,
   "metadata": {},
   "outputs": [],
   "source": [
    "profitable_days =[]\n",
    "unprofitable_days =[] "
   ]
  },
  {
   "cell_type": "code",
   "execution_count": 23,
   "metadata": {},
   "outputs": [],
   "source": [
    "trading_pn1 = [ -224, 352, 252, 354, -544, -650, 56, 123, -43, 253, 325, -123, 47, 321, 123, 133, -151, 613, 232, -311 ]"
   ]
  },
  {
   "cell_type": "code",
   "execution_count": 29,
   "metadata": {},
   "outputs": [
    {
     "ename": "SyntaxError",
     "evalue": "invalid syntax (<ipython-input-29-e2138e9d54d1>, line 19)",
     "output_type": "error",
     "traceback": [
      "\u001b[0;36m  File \u001b[0;32m\"<ipython-input-29-e2138e9d54d1>\"\u001b[0;36m, line \u001b[0;32m19\u001b[0m\n\u001b[0;31m    elif day_pn1 <= 0:\u001b[0m\n\u001b[0m       ^\u001b[0m\n\u001b[0;31mSyntaxError\u001b[0m\u001b[0;31m:\u001b[0m invalid syntax\n"
     ]
    }
   ],
   "source": [
    "for day_pn1 in trading_pn1:\n",
    "    \n",
    "    # cumulatively sum up the total profits/losses and count of trading day\n",
    "    total += day_pn1\n",
    "    count += 1\n",
    "    \n",
    "    # logic to determine minimum and maximum values\n",
    "    if minimum == 0:\n",
    "        mimimum = day_pn1\n",
    "    elif day_pn1 < minimum:\n",
    "        minimum = day_pn1\n",
    "    \n",
    "    if day_pn1 > maximum:\n",
    "            maximum = day_pn1\n",
    "            \n",
    "    # logic to determine profit vs nonprofit days\n",
    "    if day_pn1 > 0:\n",
    "        profitable_days.append(day_pn1)\n",
    "        elif day_pn1 <= 0:\n",
    "            unprofitable_days.append(day_pn1)"
   ]
  },
  {
   "cell_type": "code",
   "execution_count": 20,
   "metadata": {},
   "outputs": [],
   "source": [
    "# Calculate the avergae"
   ]
  },
  {
   "cell_type": "code",
   "execution_count": 26,
   "metadata": {},
   "outputs": [
    {
     "data": {
      "text/plain": [
       "0"
      ]
     },
     "execution_count": 26,
     "metadata": {},
     "output_type": "execute_result"
    }
   ],
   "source": [
    "minimum"
   ]
  },
  {
   "cell_type": "code",
   "execution_count": 22,
   "metadata": {},
   "outputs": [
    {
     "data": {
      "text/plain": [
       "0"
      ]
     },
     "execution_count": 22,
     "metadata": {},
     "output_type": "execute_result"
    }
   ],
   "source": [
    "minimum"
   ]
  },
  {
   "cell_type": "code",
   "execution_count": null,
   "metadata": {},
   "outputs": [],
   "source": []
  }
 ],
 "metadata": {
  "kernelspec": {
   "display_name": "Python 3",
   "language": "python",
   "name": "python3"
  },
  "language_info": {
   "codemirror_mode": {
    "name": "ipython",
    "version": 3
   },
   "file_extension": ".py",
   "mimetype": "text/x-python",
   "name": "python",
   "nbconvert_exporter": "python",
   "pygments_lexer": "ipython3",
   "version": "3.7.9"
  }
 },
 "nbformat": 4,
 "nbformat_minor": 4
}
