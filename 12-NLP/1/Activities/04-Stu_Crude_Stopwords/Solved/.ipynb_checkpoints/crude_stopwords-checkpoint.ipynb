{
 "cells": [
  {
   "cell_type": "markdown",
   "metadata": {},
   "source": [
    "# Students Do: Crude Stopwords\n",
    "For this activity, create a function that takes in an article and outputs a list of words that is free of stopwords and any non-letter characters. After looking at the results, define your own list of stopwords to add to the NLTK default set. "
   ]
  },
  {
   "cell_type": "code",
   "execution_count": 1,
   "metadata": {},
   "outputs": [
    {
     "name": "stderr",
     "output_type": "stream",
     "text": [
      "[nltk_data] Downloading package reuters to\n",
      "[nltk_data]     C:\\Users\\lorie\\AppData\\Roaming\\nltk_data...\n",
      "[nltk_data] Downloading package punkt to\n",
      "[nltk_data]     C:\\Users\\lorie\\AppData\\Roaming\\nltk_data...\n",
      "[nltk_data]   Unzipping tokenizers\\punkt.zip.\n",
      "[nltk_data] Downloading package stopwords to\n",
      "[nltk_data]     C:\\Users\\lorie\\AppData\\Roaming\\nltk_data...\n",
      "[nltk_data]   Unzipping corpora\\stopwords.zip.\n"
     ]
    },
    {
     "data": {
      "text/plain": [
       "True"
      ]
     },
     "execution_count": 1,
     "metadata": {},
     "output_type": "execute_result"
    }
   ],
   "source": [
    "from nltk.corpus import reuters, stopwords\n",
    "from nltk.tokenize import word_tokenize\n",
    "import re\n",
    "\n",
    "# Code to download corpora\n",
    "import nltk\n",
    "nltk.download('reuters')\n",
    "nltk.download('punkt')\n",
    "nltk.download('stopwords')"
   ]
  },
  {
   "cell_type": "code",
   "execution_count": 2,
   "metadata": {},
   "outputs": [],
   "source": [
    "crude_article = reuters.raw(fileids=reuters.fileids(categories='crude')[2])"
   ]
  },
  {
   "cell_type": "code",
   "execution_count": 3,
   "metadata": {},
   "outputs": [
    {
     "name": "stdout",
     "output_type": "stream",
     "text": [
      "TURKEY CALLS FOR DIALOGUE TO SOLVE DISPUTE\n",
      "  Turkey said today its disputes with\n",
      "  Greece, including rights on the continental shelf in the Aegean\n",
      "  Sea, should be solved through negotiations.\n",
      "      A Foreign Ministry statement said the latest crisis between\n",
      "  the two NATO members stemmed from the continental shelf dispute\n",
      "  and an agreement on this issue would effect the security,\n",
      "  economy and other rights of both countries.\n",
      "      \"As the issue is basicly political, a solution can only be\n",
      "  found by bilateral negotiations,\" the statement said. Greece has\n",
      "  repeatedly said the issue was legal and could be solved at the\n",
      "  International Court of Justice.\n",
      "      The two countries approached armed confrontation last month\n",
      "  after Greece announced it planned oil exploration work in the\n",
      "  Aegean and Turkey said it would also search for oil.\n",
      "      A face-off was averted when Turkey confined its research to\n",
      "  territorrial waters. \"The latest crises created an historic\n",
      "  opportunity to solve the disputes between the two countries,\"\n",
      "  the Foreign Ministry statement said.\n",
      "      Turkey's ambassador in Athens, Nazmi Akiman, was due to\n",
      "  meet Prime Minister Andreas Papandreou today for the Greek\n",
      "  reply to a message sent last week by Turkish Prime Minister\n",
      "  Turgut Ozal. The contents of the message were not disclosed.\n",
      "  \n",
      "\n",
      "\n"
     ]
    }
   ],
   "source": [
    "print(crude_article)"
   ]
  },
  {
   "cell_type": "code",
   "execution_count": 4,
   "metadata": {},
   "outputs": [],
   "source": [
    "# define stopwording and regex \n",
    "def clean_text(article):\n",
    "    sw = set(stopwords.words('english'))\n",
    "    regex = re.compile(\"[^a-zA-Z ]\")\n",
    "    \n",
    "    re_clean = regex.sub('', article)\n",
    "    words = word_tokenize(re_clean)\n",
    "    output = [word.lower() for word in words if word.lower() not in sw]\n",
    "    return output"
   ]
  },
  {
   "cell_type": "code",
   "execution_count": 5,
   "metadata": {},
   "outputs": [],
   "source": [
    "result = clean_text(crude_article)"
   ]
  },
  {
   "cell_type": "code",
   "execution_count": 6,
   "metadata": {},
   "outputs": [
    {
     "name": "stdout",
     "output_type": "stream",
     "text": [
      "{'disputes', 'stemmed', 'prime', 'minister', 'bilateral', 'latest', 'members', 'turkey', 'countries', 'disclosed', 'armed', 'basicly', 'solved', 'could', 'negotiations', 'foreign', 'created', 'greece', 'also', 'aegean', 'due', 'akiman', 'month', 'found', 'turkish', 'planned', 'dispute', 'reply', 'nazmi', 'continental', 'international', 'announced', 'faceoff', 'andreas', 'agreement', 'dialogue', 'justice', 'ozal', 'crises', 'averted', 'turkeys', 'greek', 'work', 'calls', 'effect', 'opportunity', 'week', 'ministry', 'statement', 'crisis', 'exploration', 'would', 'confined', 'message', 'sea', 'repeatedly', 'legal', 'including', 'search', 'research', 'confrontation', 'sent', 'security', 'nato', 'waters', 'oil', 'issue', 'political', 'solution', 'court', 'today', 'ambassador', 'territorrial', 'economy', 'rights', 'approached', 'contents', 'athens', 'shelf', 'said', 'meet', 'turgut', 'papandreou', 'last', 'two', 'solve', 'historic'}\n"
     ]
    }
   ],
   "source": [
    "# print out unique words\n",
    "print(set(result))"
   ]
  },
  {
   "cell_type": "code",
   "execution_count": 7,
   "metadata": {},
   "outputs": [],
   "source": [
    "# second iteration, with custom stopwords\n",
    "def clean_text(article):\n",
    "    sw = set(stopwords.words('english'))\n",
    "    regex = re.compile(\"[^a-zA-Z ]\")\n",
    "    sw_addons = {'said', 'sent', 'found', 'including', 'today', 'announced', 'week', 'basically', 'also'}\n",
    "    \n",
    "    re_clean = regex.sub('', article)\n",
    "    words = word_tokenize(re_clean)\n",
    "    output = [word.lower() for word in words if word.lower() not in sw.union(sw_addons)]\n",
    "    return output"
   ]
  },
  {
   "cell_type": "code",
   "execution_count": 8,
   "metadata": {},
   "outputs": [
    {
     "name": "stdout",
     "output_type": "stream",
     "text": [
      "{'disputes', 'stemmed', 'prime', 'minister', 'bilateral', 'latest', 'members', 'turkey', 'countries', 'disclosed', 'armed', 'basicly', 'solved', 'could', 'negotiations', 'foreign', 'created', 'greece', 'aegean', 'due', 'akiman', 'month', 'turkish', 'planned', 'dispute', 'reply', 'nazmi', 'continental', 'international', 'faceoff', 'andreas', 'agreement', 'dialogue', 'justice', 'ozal', 'crises', 'averted', 'turkeys', 'greek', 'work', 'calls', 'effect', 'opportunity', 'ministry', 'statement', 'crisis', 'exploration', 'would', 'confined', 'message', 'sea', 'repeatedly', 'legal', 'search', 'research', 'confrontation', 'security', 'nato', 'waters', 'oil', 'issue', 'political', 'solution', 'court', 'ambassador', 'territorrial', 'economy', 'rights', 'approached', 'contents', 'athens', 'shelf', 'meet', 'turgut', 'papandreou', 'last', 'two', 'solve', 'historic'}\n"
     ]
    }
   ],
   "source": [
    "result2 = clean_text(crude_article)\n",
    "print(set(result2))"
   ]
  }
 ],
 "metadata": {
  "file_extension": ".py",
  "kernelspec": {
   "display_name": "Python 3",
   "language": "python",
   "name": "python3"
  },
  "language_info": {
   "codemirror_mode": {
    "name": "ipython",
    "version": 3
   },
   "file_extension": ".py",
   "mimetype": "text/x-python",
   "name": "python",
   "nbconvert_exporter": "python",
   "pygments_lexer": "ipython3",
   "version": "3.7.3"
  },
  "mimetype": "text/x-python",
  "name": "python",
  "npconvert_exporter": "python",
  "pygments_lexer": "ipython3",
  "version": 3
 },
 "nbformat": 4,
 "nbformat_minor": 2
}
